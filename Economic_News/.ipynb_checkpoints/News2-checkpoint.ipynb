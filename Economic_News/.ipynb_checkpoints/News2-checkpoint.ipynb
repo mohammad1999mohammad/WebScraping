{
 "cells": [
  {
   "cell_type": "code",
   "execution_count": 8,
   "id": "cb8125f1",
   "metadata": {},
   "outputs": [],
   "source": [
    "import numpy as np\n",
    "import pandas as pd\n",
    "import selenium as se\n",
    "import requests\n",
    "import time\n",
    "import datetime\n",
    "import jdatetime\n",
    "import json\n",
    "from bs4 import BeautifulSoup"
   ]
  },
  {
   "cell_type": "code",
   "execution_count": 9,
   "id": "1fe82b00",
   "metadata": {},
   "outputs": [],
   "source": [
    "keywords = ['بورس','تورم']"
   ]
  },
  {
   "cell_type": "code",
   "execution_count": 10,
   "id": "597d47e2",
   "metadata": {},
   "outputs": [],
   "source": [
    "last_days = 2"
   ]
  },
  {
   "cell_type": "code",
   "execution_count": 11,
   "id": "45fe3144",
   "metadata": {},
   "outputs": [],
   "source": [
    "# start_date = '1402/02/17'\n",
    "# end_date = '1402/02/19'\n",
    "start_date = str(jdatetime.date.today() - jdatetime.timedelta(days = last_days)).replace('-','/')\n",
    "end_date = str(jdatetime.date.today()).replace('-','/')\n",
    "count_per_page = 50"
   ]
  },
  {
   "cell_type": "code",
   "execution_count": 12,
   "id": "c9f3770e",
   "metadata": {},
   "outputs": [],
   "source": [
    "news_list = []\n",
    "\n",
    "for keyword in keywords:\n",
    "    \n",
    "    all_news = []\n",
    "    \n",
    "    response = requests.get('https://www.asriran.com/fa/search/{}/-1/-1/{}/{}?from={}&to={}'.format(1,25,keyword,start_date,end_date))\n",
    "    \n",
    "    html_text = response.text\n",
    "    \n",
    "    soup = BeautifulSoup(html_text, \"html.parser\")\n",
    "    \n",
    "    search_nav = soup.find(\"table\",class_=\"search_result_nav\")\n",
    "    \n",
    "    result_count = int(search_nav.find(\"span\").text)\n",
    "    \n",
    "    enough_page = ( result_count // count_per_page ) + 1\n",
    "\n",
    "    for page in range(1,enough_page + 1,1):\n",
    "\n",
    "        response = requests.get('https://www.asriran.com/fa/search/{}/-1/-1/{}/{}?from={}&to={}'.format(page,count_per_page,keyword,start_date,end_date))\n",
    "\n",
    "        html_text = response.text\n",
    "\n",
    "        soup = BeautifulSoup(html_text, \"html.parser\")\n",
    "\n",
    "        news_items = soup.find_all(\"a\", class_=\"tag_title\")\n",
    "\n",
    "        for item in news_items:\n",
    "\n",
    "            all_news.append(item)\n",
    "            \n",
    "    for i in all_news:\n",
    "        news_dict = {}\n",
    "        news_dict['عنوان خبر'] = i.text\n",
    "        news_dict['لینک خبر'] = 'https://www.asriran.com' + i.attrs[\"href\"]\n",
    "        news_dict['کلید واژه'] = keyword\n",
    "        news_dict['تاریخ شروع'] = start_date\n",
    "        news_dict['تاریخ پایان'] = end_date\n",
    "        news_dict['زمان اجرای کد'] = str(datetime.datetime.now().strftime(\"%X\"))\n",
    "        news_dict['تاریخ اجرای کد'] = str(jdatetime.date.today()).replace('-','/')\n",
    "        news_list.append(news_dict)\n",
    "    "
   ]
  },
  {
   "cell_type": "code",
   "execution_count": null,
   "id": "5f3432ae",
   "metadata": {},
   "outputs": [],
   "source": [
    "\n"
   ]
  },
  {
   "cell_type": "code",
   "execution_count": 13,
   "id": "8c9a100c",
   "metadata": {},
   "outputs": [],
   "source": [
    "with pd.ExcelWriter(\"News_With_Keyword_2.xlsx\") as writer:\n",
    "    \n",
    "    df = pd.DataFrame(news_list)\n",
    "    \n",
    "    df.to_excel(writer, sheet_name='News', index=False)\n",
    "    "
   ]
  },
  {
   "cell_type": "code",
   "execution_count": null,
   "id": "1cfe6582",
   "metadata": {},
   "outputs": [],
   "source": []
  },
  {
   "cell_type": "code",
   "execution_count": null,
   "id": "479e7f7e",
   "metadata": {},
   "outputs": [],
   "source": []
  },
  {
   "cell_type": "code",
   "execution_count": null,
   "id": "83fff6f2",
   "metadata": {},
   "outputs": [],
   "source": []
  },
  {
   "cell_type": "code",
   "execution_count": null,
   "id": "000acaf3",
   "metadata": {},
   "outputs": [],
   "source": []
  },
  {
   "cell_type": "code",
   "execution_count": null,
   "id": "4ef3a961",
   "metadata": {},
   "outputs": [],
   "source": []
  },
  {
   "cell_type": "code",
   "execution_count": null,
   "id": "10d83585",
   "metadata": {},
   "outputs": [],
   "source": []
  },
  {
   "cell_type": "code",
   "execution_count": null,
   "id": "5156f290",
   "metadata": {},
   "outputs": [],
   "source": []
  },
  {
   "cell_type": "code",
   "execution_count": null,
   "id": "74f87c09",
   "metadata": {},
   "outputs": [],
   "source": []
  },
  {
   "cell_type": "code",
   "execution_count": null,
   "id": "4de58777",
   "metadata": {},
   "outputs": [],
   "source": []
  },
  {
   "cell_type": "code",
   "execution_count": null,
   "id": "742988a0",
   "metadata": {},
   "outputs": [],
   "source": []
  },
  {
   "cell_type": "code",
   "execution_count": null,
   "id": "9cd294e1",
   "metadata": {},
   "outputs": [],
   "source": [
    "news_dict['news_link'] =  ('<a href=\"https://www.asriran.com{}\">لینک</a>').format(i.attrs[\"href\"])\n"
   ]
  },
  {
   "cell_type": "code",
   "execution_count": 21,
   "id": "9b1ba09d",
   "metadata": {},
   "outputs": [],
   "source": [
    "section_id = 229\n",
    "count_per_page = 20\n",
    "start_date = '1402/01/20'\n",
    "end_date = '1402/02/19'\n",
    "page_number = 1"
   ]
  },
  {
   "cell_type": "code",
   "execution_count": 22,
   "id": "77485c55",
   "metadata": {},
   "outputs": [],
   "source": [
    "response = requests.get('https://www.asriran.com/fa/archive/section?sec_id={}&rpp={}&from_date={}&to_date={}&p={}'.format(section_id,count_per_page,start_date,end_date,page_number))"
   ]
  },
  {
   "cell_type": "code",
   "execution_count": 23,
   "id": "264646e7",
   "metadata": {},
   "outputs": [],
   "source": [
    "html_text = response.text"
   ]
  },
  {
   "cell_type": "code",
   "execution_count": 24,
   "id": "a3f819af",
   "metadata": {},
   "outputs": [],
   "source": [
    "# html_text"
   ]
  },
  {
   "cell_type": "code",
   "execution_count": 25,
   "id": "6a37e7d8",
   "metadata": {},
   "outputs": [],
   "source": [
    "soup = BeautifulSoup(html_text, \"html.parser\")"
   ]
  },
  {
   "cell_type": "code",
   "execution_count": 26,
   "id": "dc0ca99b",
   "metadata": {
    "scrolled": true
   },
   "outputs": [],
   "source": [
    "# soup"
   ]
  },
  {
   "cell_type": "code",
   "execution_count": 27,
   "id": "be57112b",
   "metadata": {},
   "outputs": [],
   "source": [
    "# soup.find(class_ = 'vizhe_title')"
   ]
  },
  {
   "cell_type": "code",
   "execution_count": 28,
   "id": "39c438cb",
   "metadata": {},
   "outputs": [
    {
     "data": {
      "text/plain": [
       "20"
      ]
     },
     "execution_count": 28,
     "metadata": {},
     "output_type": "execute_result"
    }
   ],
   "source": [
    "len(soup.find_all(\"a\", class_=\"vizhe_title\"))"
   ]
  },
  {
   "cell_type": "code",
   "execution_count": 29,
   "id": "115860eb",
   "metadata": {},
   "outputs": [
    {
     "name": "stdout",
     "output_type": "stream",
     "text": [
      "                         وام خرید مسکن ۵۵۰ میلیون تومان می‌شود؟                     \n",
      "                         فرزین: از این به بعد بانک مرکزی ارز را به صورت مستقیم خریداری خواهد کرد و به طور مستقیم هم خواهد فروخت                     \n",
      "                         آیا دلار زدایی ممکن است؟                     \n",
      "                         متهم اصلی برگشت چک‌ها در قم                     \n",
      "                         افزایش تا ۷۰ درصدی تعرفه آب برای پرمصرف ها                     \n",
      "                         واردات آیفون دست دوم ۱۲۰ میلیونی!                     \n",
      "                         هوش مصنوعی در فراز بانک ایران زمین                     \n",
      "                         اتاق بازرگانی: بانک مرکزی عراق اجازه انتقال دلار به ایران را ندارد/ هیچ پولی از عراق به ایران نرسید                     \n",
      "                         هشدار رئیس اتحادیه نانوایان سنگکی: با وعده نرخنامه جدید مانع تجمع نانوایان شده ام/ نمی‌توانم نرخ واقعی نان سنگک را رسانه‌ای کنم                     \n",
      "                         طرح ممنوعیت فروش زمین و ملک به شهروندان ایرانی در ایالت تگزاس آمریکا                     \n",
      "                         قیمت آپارتمان در 4 گوشه تهران/ از نارمک و ونک تا پاسداران و سبلان                     \n",
      "                         دارندگان دسته چک های قدیمی بخوانند                     \n",
      "                         خبرهای جدید در مورد قیمت نان                     \n",
      "                         هشدار فرزین به خریداران ارز: پول‌شویی است و موجب اخلال در نظام اقتصادی                     \n",
      "                         کلیه تراکنش‌های بانکی دارای شناسه یکتا می‌شوند                     \n",
      "                         مصوبه مجلس: از خرید و فروش ملک و خودرو تا طلا و رمز ارز همگی مشمول مالیات بر عایدی سرمایه می‌شود                     \n",
      "                         مجوز بانک مرکزی برای واردات کالا با رمز ارز                     \n",
      "                         فاطمی امین از وزارت صمت برکنار شد                     \n",
      "                         مدیرکل راه و شهرسازی استان تهران خطاب به موجران: خانه‌هایتان را به قیمت مناسب به مستاجران بدهید و گرنه مشمول مالیات می شوید                     \n",
      "                         معجزۀ رییسی در مسکن؛ تبدیل وعدۀ «ساخته می‌شود» به «باید می‌شد»!                     \n"
     ]
    }
   ],
   "source": [
    "mylist = []\n",
    "for item in soup.find_all(\"a\", class_=\"vizhe_title\"):\n",
    "    mylist.append(item.text)\n",
    "    print(item.text)"
   ]
  }
 ],
 "metadata": {
  "kernelspec": {
   "display_name": "Python 3 (ipykernel)",
   "language": "python",
   "name": "python3"
  },
  "language_info": {
   "codemirror_mode": {
    "name": "ipython",
    "version": 3
   },
   "file_extension": ".py",
   "mimetype": "text/x-python",
   "name": "python",
   "nbconvert_exporter": "python",
   "pygments_lexer": "ipython3",
   "version": "3.9.5"
  }
 },
 "nbformat": 4,
 "nbformat_minor": 5
}
