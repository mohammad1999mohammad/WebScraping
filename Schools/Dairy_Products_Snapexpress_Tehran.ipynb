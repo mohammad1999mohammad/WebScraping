{
 "cells": [
  {
   "cell_type": "code",
   "execution_count": 1,
   "id": "074a7ddf",
   "metadata": {},
   "outputs": [],
   "source": [
    "import requests\n",
    "import json\n",
    "import numpy as np\n",
    "import pandas as pd\n",
    "import time\n",
    "import math"
   ]
  },
  {
   "cell_type": "code",
   "execution_count": 2,
   "id": "9531c730",
   "metadata": {},
   "outputs": [
    {
     "name": "stdout",
     "output_type": "stream",
     "text": [
      "{'1': 56, '2': 49, '3': 35, '4': 56, '5': 63, '6': 30, '7': 24, '8': 39, '9': 24, '10': 16, '11': 21, '12': 29, '13': 18, '14': 28, '15': 28, '16': 13, '17': 12, '18': 22, '19': 19}\n"
     ]
    }
   ],
   "source": [
    "page_number = {}\n",
    "\n",
    "for region in range(1,20,1):\n",
    "        \n",
    "    schools_base_url = 'https://www.ostadbank.com/api/www/v1/schools/list?page={}&parameters%5B%5D=tehran&parameters%5B%5D=region-{}'.format(1,region)\n",
    "    \n",
    "    schools_base_dict = {}\n",
    "    \n",
    "    i = 1\n",
    "    \n",
    "    while ((i<7) and (schools_base_dict=={})):\n",
    "    \n",
    "        try:\n",
    "\n",
    "            schools_base_dict = json.loads((requests.get(schools_base_url,timeout=4)).text)\n",
    "\n",
    "        except:\n",
    "\n",
    "                i=i+1\n",
    "                \n",
    "#     print(schools_base_dict)\n",
    "    \n",
    "    page_number[str(region)] = math.ceil(schools_base_dict['data']['pagination']['total']/10)\n",
    "    \n",
    "#     print('------------------------------------------------------------------------')\n",
    "\n",
    "print(page_number)"
   ]
  },
  {
   "cell_type": "code",
   "execution_count": 3,
   "id": "5437b2de",
   "metadata": {},
   "outputs": [],
   "source": [
    "def extract_gender(x):\n",
    "    \n",
    "    if(x=='boy'):\n",
    "        return 'پسرانه'\n",
    "    else:\n",
    "        return 'دخترانه'"
   ]
  },
  {
   "cell_type": "code",
   "execution_count": 4,
   "id": "95705a79",
   "metadata": {},
   "outputs": [],
   "source": [
    "schools_list = []\n",
    "\n",
    "for region in range(1,20,1):\n",
    "    \n",
    "    for page in range(1,page_number[str(region)]+1,1):\n",
    "        \n",
    "        i = 1\n",
    "        \n",
    "        schools_dict = {}\n",
    "        \n",
    "        while ((i<7) and (schools_dict=={})):\n",
    "            \n",
    "            try:\n",
    "\n",
    "                schools_dict = json.loads((requests.get('https://www.ostadbank.com/api/www/v1/schools/list?page={}&parameters%5B%5D=tehran&parameters%5B%5D=region-{}'.format(page,region),timeout=4)).text)\n",
    "\n",
    "            except:\n",
    "                \n",
    "                i=i+1\n",
    "                \n",
    "        for school in schools_dict['data']['schools']:\n",
    "            \n",
    "            school_dict = {}\n",
    "            \n",
    "            try:\n",
    "                school_dict['school_id'] = str(school['id'])\n",
    "            except:\n",
    "                school_dict['school_id'] = '---'\n",
    "            try:\n",
    "                school_dict['school_id_2'] = school['url_path']\n",
    "            except:\n",
    "                school_dict['school_id_2'] = '---'\n",
    "            try:\n",
    "                school_dict['school_name'] = school['long_name']\n",
    "            except:\n",
    "                school_dict['school_name'] = '---'\n",
    "            try:\n",
    "                school_dict['school_type'] = school['school_type']\n",
    "            except:\n",
    "                school_dict['school_type'] = '---'\n",
    "            try:\n",
    "                school_dict['school_grade'] = school['school_grade']\n",
    "            except:\n",
    "                school_dict['school_grade'] = '---'\n",
    "            try:\n",
    "                school_dict['school_city'] = school['school_city']\n",
    "            except:\n",
    "                school_dict['school_city'] = '---'\n",
    "            try:\n",
    "                school_dict['school_region'] = school['school_city_region']\n",
    "            except:\n",
    "                school_dict['school_region'] = '---'\n",
    "            try:\n",
    "                school_dict['school_gender'] = extract_gender(school['gender'])\n",
    "            except:\n",
    "                school_dict['school_gender'] = '---'\n",
    "            try:\n",
    "                school_dict['school_address'] = school['postal_address']\n",
    "            except:\n",
    "                school_dict['school_address'] = '---'\n",
    "            try:\n",
    "                school_dict['school_lat'] = (school['location'].strip('][').split(','))[0]\n",
    "            except:\n",
    "                school_dict['school_lat'] = '---'\n",
    "            try:\n",
    "                school_dict['school_lon'] = (school['location'].strip('][').split(','))[1]\n",
    "            except:\n",
    "                school_dict['school_lon'] = '---'\n",
    "\n",
    "            schools_list.append(school_dict)"
   ]
  },
  {
   "cell_type": "code",
   "execution_count": 5,
   "id": "41c11d62",
   "metadata": {},
   "outputs": [],
   "source": [
    "col_names_schools = ['آیدی مدرسه','شناسه مدرسه','نام مدرسه','نوع مدرسه','پایه مدرسه','شهر مدرسه','منطقه مدرسه','جنسیت مدرسه','آدرس مدرسه','لوکیشن لت مدرسه','لوکیشن لان مدرسه']"
   ]
  },
  {
   "cell_type": "code",
   "execution_count": 6,
   "id": "46dc3f15",
   "metadata": {},
   "outputs": [],
   "source": [
    "schools_df = pd.DataFrame(schools_list)"
   ]
  },
  {
   "cell_type": "code",
   "execution_count": 7,
   "id": "9aaf5c37",
   "metadata": {},
   "outputs": [],
   "source": [
    "with pd.ExcelWriter(\"Schools.xlsx\") as writer:\n",
    "    schools_df.columns = col_names_schools\n",
    "    schools_df.to_excel(writer, sheet_name=\"Schools\", index=False)"
   ]
  },
  {
   "cell_type": "code",
   "execution_count": null,
   "id": "77ae26e8",
   "metadata": {},
   "outputs": [],
   "source": []
  }
 ],
 "metadata": {
  "kernelspec": {
   "display_name": "Python 3 (ipykernel)",
   "language": "python",
   "name": "python3"
  },
  "language_info": {
   "codemirror_mode": {
    "name": "ipython",
    "version": 3
   },
   "file_extension": ".py",
   "mimetype": "text/x-python",
   "name": "python",
   "nbconvert_exporter": "python",
   "pygments_lexer": "ipython3",
   "version": "3.9.5"
  },
  "vscode": {
   "interpreter": {
    "hash": "72a2ed66187f53c8d30e58c9e49723a418590854eda551c3a1cfe0bd55332d60"
   }
  }
 },
 "nbformat": 4,
 "nbformat_minor": 5
}
