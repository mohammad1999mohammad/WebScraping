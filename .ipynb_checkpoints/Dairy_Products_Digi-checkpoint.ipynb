{
 "cells": [
  {
   "cell_type": "code",
   "execution_count": 1,
   "id": "074a7ddf",
   "metadata": {},
   "outputs": [],
   "source": [
    "import requests\n",
    "import json\n",
    "import numpy as np\n",
    "import pandas as pd"
   ]
  },
  {
   "cell_type": "code",
   "execution_count": 13,
   "id": "df86362a",
   "metadata": {},
   "outputs": [],
   "source": [
    "location_hyper_stores = []"
   ]
  },
  {
   "cell_type": "code",
   "execution_count": 3,
   "id": "4c5cd6bb",
   "metadata": {},
   "outputs": [],
   "source": [
    "lat = 35.77062740137399\n",
    "lon = 51.365053637545"
   ]
  },
  {
   "cell_type": "code",
   "execution_count": 4,
   "id": "55d5e58a",
   "metadata": {},
   "outputs": [],
   "source": [
    "location_hyper_stores_response = requests.get('https://core.snapp.market/api/v1/vendors/availables?lat={}&lon={}'.format(lat,lon))"
   ]
  },
  {
   "cell_type": "code",
   "execution_count": 5,
   "id": "96948ded",
   "metadata": {},
   "outputs": [],
   "source": [
    "location_hyper_stores_dict = json.loads(hyper_stores_response.text)"
   ]
  },
  {
   "cell_type": "code",
   "execution_count": 11,
   "id": "d368ad66",
   "metadata": {},
   "outputs": [
    {
     "name": "stdout",
     "output_type": "stream",
     "text": [
      "هایپراستار\n",
      "25567\n",
      "0jyw5g\n",
      "هایپراستار سعادت آباد\n",
      "HYPERSTAR\n",
      "سعادت آباد، میدان بهرود خیابان 33 ریسیوینگ هایپر استار مراجعه به بخش (اسنپ مارکت)\n",
      "سعادت آباد،  مجتمع دیدار\n",
      "02196642222\n",
      "170000\n",
      "80000\n",
      "10000\n",
      "61\n",
      "تهران\n",
      "10000\n",
      "10000\n",
      "موجود\n"
     ]
    }
   ],
   "source": [
    "for hyper_store in location_hyper_stores_dict['items']:\n",
    "\n",
    "    hyper_store_information = {}\n",
    "\n",
    "    try:\n",
    "        product_dict['product_id'] = product['id']\n",
    "    except:\n",
    "        product_dict['product_id'] = '---'\n",
    "    try:\n",
    "        product_dict['product_persian_title'] = product['title_fa']\n",
    "    except:\n",
    "        product_dict['product_persian_title'] = '---'\n",
    "    try:\n",
    "        product_dict['product_english_title'] = product['title_en']\n",
    "    except:\n",
    "        product_dict['product_english_title'] = '---'\n",
    "    try:\n",
    "        product_dict['product_star_rate'] = product['rating']['rate']\n",
    "    except:\n",
    "        product_dict['product_star_rate'] = '---'\n",
    "    try:\n",
    "        product_dict['product_star_number_of_scorer'] = product['rating']['count']\n",
    "    except:\n",
    "        product_dict['product_star_number_of_scorer'] = '---'\n",
    "    try:\n",
    "        product_dict['product_status'] = product['status']\n",
    "    except:\n",
    "        product_dict['product_status'] = '---'\n",
    "    try:\n",
    "        product_dict['product_brand'] = product['data_layer']['brand']\n",
    "    except:\n",
    "        product_dict['product_brand'] = '---'\n",
    "    try:\n",
    "        product_dict['product_offer'] = product['data_layer']['dimension7']\n",
    "    except:\n",
    "        product_dict['product_offer'] = '---'\n",
    "    try:\n",
    "        product_dict['product_min_price_last_month'] = product['properties']['min_price_in_last_month']\n",
    "    except:\n",
    "        product_dict['product_min_price_last_month'] = '---'\n",
    "    try:\n",
    "        product_dict['product_satisfy_rate'] = product['default_variant']['statistics']['total_rate']\n",
    "    except:\n",
    "        product_dict['product_satisfy_rate'] = '---'\n",
    "    try:\n",
    "        product_dict['product_satisfy_number_of_scorer'] = product['default_variant']['statistics']['total_count']\n",
    "    except:\n",
    "        product_dict['product_satisfy_number_of_scorer'] = '---'\n",
    "    try:\n",
    "        product_dict['product_digiplus_cashback'] = product['default_variant']['digiplus']['cash_back']\n",
    "    except:\n",
    "        product_dict['product_digiplus_cashback'] = '---'\n",
    "    try:\n",
    "        product_dict['product_digiclub_point'] = product['default_variant']['digiclub']['point']\n",
    "    except:\n",
    "        product_dict['product_digiclub_point'] = '---'\n",
    "    try:\n",
    "        product_dict['product_selling_price'] = product['default_variant']['price']['selling_price']\n",
    "    except:\n",
    "        product_dict['product_selling_price'] = '---'\n",
    "    try:\n",
    "        product_dict['product_rrp_price'] = product['default_variant']['price']['rrp_price']\n",
    "    except:\n",
    "        product_dict['product_rrp_price'] = '---'\n",
    "    try:\n",
    "        product_dict['product_order_limit'] = product['default_variant']['price']['order_limit']\n",
    "    except:\n",
    "        product_dict['product_order_limit'] = '---'\n",
    "    try:\n",
    "        product_dict['product_discount_percent'] = product['default_variant']['price']['discount_percent']\n",
    "    except:\n",
    "        product_dict['product_discount_percent'] = '---'\n",
    "\n",
    "    application_products['khame'].append(product_dict)\n",
    "\n",
    "\n",
    "\n",
    "\n",
    "\n",
    "print(hyper_stores_dict['items'][0]['title'])\n",
    "print(hyper_stores_dict['items'][0]['vendors'][0]['id'])\n",
    "print(hyper_stores_dict['items'][0]['vendors'][0]['code'])\n",
    "print(hyper_stores_dict['items'][0]['vendors'][0]['title'])\n",
    "print(hyper_stores_dict['items'][0]['vendors'][0]['type'])\n",
    "print(hyper_stores_dict['items'][0]['vendors'][0]['address'])\n",
    "print(hyper_stores_dict['items'][0]['vendors'][0]['display_address'])\n",
    "print(hyper_stores_dict['items'][0]['vendors'][0]['customer_phone'])\n",
    "print(hyper_stores_dict['items'][0]['vendors'][0]['min_price_for_free_delivery'])\n",
    "print(hyper_stores_dict['items'][0]['vendors'][0]['min_basket_price'])\n",
    "print(hyper_stores_dict['items'][0]['vendors'][0]['delivery_fee'])\n",
    "print(hyper_stores_dict['items'][0]['vendors'][0]['maximum_discount'])\n",
    "print(hyper_stores_dict['items'][0]['vendors'][0]['city'])\n",
    "print(hyper_stores_dict['items'][0]['vendors'][0]['default_time_slot']['delivery_fee'])\n",
    "print(hyper_stores_dict['items'][0]['vendors'][0]['default_time_slot']['delivery_fee_before_discount'])\n",
    "print(hyper_stores_dict['items'][0]['vendors'][0]['default_time_slot']['status'])\n",
    "\n",
    "\n"
   ]
  },
  {
   "cell_type": "code",
   "execution_count": null,
   "id": "f3b4dd3c",
   "metadata": {},
   "outputs": [],
   "source": []
  },
  {
   "cell_type": "code",
   "execution_count": null,
   "id": "4171142a",
   "metadata": {},
   "outputs": [],
   "source": []
  },
  {
   "cell_type": "code",
   "execution_count": null,
   "id": "193c86ad",
   "metadata": {},
   "outputs": [],
   "source": []
  },
  {
   "cell_type": "code",
   "execution_count": null,
   "id": "937b8569",
   "metadata": {},
   "outputs": [],
   "source": []
  },
  {
   "cell_type": "code",
   "execution_count": null,
   "id": "c95fdb10",
   "metadata": {},
   "outputs": [],
   "source": []
  },
  {
   "cell_type": "code",
   "execution_count": null,
   "id": "1843cd13",
   "metadata": {},
   "outputs": [],
   "source": []
  },
  {
   "cell_type": "code",
   "execution_count": null,
   "id": "49f343be",
   "metadata": {},
   "outputs": [],
   "source": []
  },
  {
   "cell_type": "code",
   "execution_count": null,
   "id": "f1cc8f66",
   "metadata": {},
   "outputs": [],
   "source": []
  },
  {
   "cell_type": "code",
   "execution_count": null,
   "id": "ec88de16",
   "metadata": {},
   "outputs": [],
   "source": []
  },
  {
   "cell_type": "code",
   "execution_count": null,
   "id": "840b1472",
   "metadata": {},
   "outputs": [],
   "source": []
  },
  {
   "cell_type": "code",
   "execution_count": null,
   "id": "91df1964",
   "metadata": {},
   "outputs": [],
   "source": []
  },
  {
   "cell_type": "code",
   "execution_count": null,
   "id": "ccd83931",
   "metadata": {},
   "outputs": [],
   "source": []
  },
  {
   "cell_type": "code",
   "execution_count": null,
   "id": "0e864b64",
   "metadata": {},
   "outputs": [],
   "source": []
  },
  {
   "cell_type": "code",
   "execution_count": null,
   "id": "db2c8ac1",
   "metadata": {},
   "outputs": [],
   "source": []
  },
  {
   "cell_type": "code",
   "execution_count": null,
   "id": "a2f132d0",
   "metadata": {},
   "outputs": [],
   "source": []
  },
  {
   "cell_type": "code",
   "execution_count": null,
   "id": "7041890f",
   "metadata": {},
   "outputs": [],
   "source": []
  },
  {
   "cell_type": "code",
   "execution_count": null,
   "id": "dce78138",
   "metadata": {},
   "outputs": [],
   "source": []
  },
  {
   "cell_type": "code",
   "execution_count": null,
   "id": "18b309de",
   "metadata": {},
   "outputs": [],
   "source": []
  },
  {
   "cell_type": "code",
   "execution_count": null,
   "id": "7c7c7313",
   "metadata": {},
   "outputs": [],
   "source": []
  },
  {
   "cell_type": "code",
   "execution_count": null,
   "id": "de63277e",
   "metadata": {},
   "outputs": [],
   "source": []
  },
  {
   "cell_type": "code",
   "execution_count": null,
   "id": "97a6f19e",
   "metadata": {},
   "outputs": [],
   "source": []
  },
  {
   "cell_type": "code",
   "execution_count": null,
   "id": "c3531e07",
   "metadata": {},
   "outputs": [],
   "source": []
  },
  {
   "cell_type": "code",
   "execution_count": null,
   "id": "d4bf7f3b",
   "metadata": {},
   "outputs": [],
   "source": []
  },
  {
   "cell_type": "code",
   "execution_count": null,
   "id": "fee734c8",
   "metadata": {},
   "outputs": [],
   "source": []
  },
  {
   "cell_type": "code",
   "execution_count": null,
   "id": "a27fb5f4",
   "metadata": {},
   "outputs": [],
   "source": []
  },
  {
   "cell_type": "code",
   "execution_count": null,
   "id": "63cef2f4",
   "metadata": {},
   "outputs": [],
   "source": []
  },
  {
   "cell_type": "code",
   "execution_count": null,
   "id": "03c99832",
   "metadata": {},
   "outputs": [],
   "source": []
  },
  {
   "cell_type": "code",
   "execution_count": null,
   "id": "f5804a40",
   "metadata": {},
   "outputs": [],
   "source": []
  },
  {
   "cell_type": "code",
   "execution_count": null,
   "id": "bf73a762",
   "metadata": {},
   "outputs": [],
   "source": []
  },
  {
   "cell_type": "code",
   "execution_count": null,
   "id": "8d8380f8",
   "metadata": {},
   "outputs": [],
   "source": []
  },
  {
   "cell_type": "code",
   "execution_count": null,
   "id": "dd7867ee",
   "metadata": {},
   "outputs": [],
   "source": []
  },
  {
   "cell_type": "code",
   "execution_count": null,
   "id": "f894c647",
   "metadata": {},
   "outputs": [],
   "source": []
  },
  {
   "cell_type": "code",
   "execution_count": null,
   "id": "c733a2cb",
   "metadata": {},
   "outputs": [],
   "source": []
  },
  {
   "cell_type": "code",
   "execution_count": null,
   "id": "78b39d9f",
   "metadata": {},
   "outputs": [],
   "source": []
  },
  {
   "cell_type": "code",
   "execution_count": null,
   "id": "ac7c14e3",
   "metadata": {},
   "outputs": [],
   "source": []
  },
  {
   "cell_type": "code",
   "execution_count": null,
   "id": "899c89fd",
   "metadata": {},
   "outputs": [],
   "source": []
  },
  {
   "cell_type": "code",
   "execution_count": null,
   "id": "cac009f2",
   "metadata": {},
   "outputs": [],
   "source": []
  },
  {
   "cell_type": "code",
   "execution_count": null,
   "id": "af3ace9b",
   "metadata": {},
   "outputs": [],
   "source": []
  },
  {
   "cell_type": "code",
   "execution_count": null,
   "id": "9883eac3",
   "metadata": {},
   "outputs": [],
   "source": []
  },
  {
   "cell_type": "code",
   "execution_count": null,
   "id": "32c97560",
   "metadata": {},
   "outputs": [],
   "source": []
  },
  {
   "cell_type": "code",
   "execution_count": null,
   "id": "9d9c4ce8",
   "metadata": {},
   "outputs": [],
   "source": []
  },
  {
   "cell_type": "code",
   "execution_count": null,
   "id": "9b853358",
   "metadata": {},
   "outputs": [],
   "source": []
  },
  {
   "cell_type": "code",
   "execution_count": null,
   "id": "21b579b8",
   "metadata": {},
   "outputs": [],
   "source": []
  },
  {
   "cell_type": "code",
   "execution_count": 2,
   "id": "fa136a3b",
   "metadata": {},
   "outputs": [],
   "source": [
    "application_products = {'khame':[],'shir':[],'mast':[],'doogh':[],'panir':[],'kashk':[],'deser':[]}"
   ]
  },
  {
   "cell_type": "code",
   "execution_count": 3,
   "id": "09c9d9bf",
   "metadata": {},
   "outputs": [],
   "source": [
    "application_information = {'khame':{},'shir':{},'mast':{},'doogh':{},'panir':{},'kashk':{},'deser':{}}"
   ]
  },
  {
   "cell_type": "code",
   "execution_count": 4,
   "id": "9261741d",
   "metadata": {},
   "outputs": [],
   "source": [
    "# how many products each category has ? "
   ]
  },
  {
   "cell_type": "code",
   "execution_count": 5,
   "id": "11252a97",
   "metadata": {},
   "outputs": [],
   "source": [
    "# khame"
   ]
  },
  {
   "cell_type": "code",
   "execution_count": 6,
   "id": "eead289f",
   "metadata": {},
   "outputs": [],
   "source": [
    "khame_base_url = 'https://api.digikala.com/v1/categories/cream/search/?page=1'"
   ]
  },
  {
   "cell_type": "code",
   "execution_count": 7,
   "id": "a9bf110c",
   "metadata": {},
   "outputs": [],
   "source": [
    "khame_base_response = requests.get(khame_base_url)"
   ]
  },
  {
   "cell_type": "code",
   "execution_count": 8,
   "id": "8e465a7e",
   "metadata": {},
   "outputs": [],
   "source": [
    "khame_base_dict = json.loads(khame_base_response.text)"
   ]
  },
  {
   "cell_type": "code",
   "execution_count": 9,
   "id": "db94b16a",
   "metadata": {},
   "outputs": [],
   "source": [
    "khame_base_data = khame_base_dict['data']"
   ]
  },
  {
   "cell_type": "code",
   "execution_count": 10,
   "id": "d4298e3f",
   "metadata": {},
   "outputs": [],
   "source": [
    "application_information['khame']['number_of_products'] = khame_base_data['pager']['total_items']\n",
    "application_information['khame']['number_of_pages'] = khame_base_data['pager']['total_pages']\n",
    "application_information['khame']['category_id'] = khame_base_data['category']['id']\n",
    "application_information['khame']['category_persian_title'] = khame_base_data['category']['title_fa']\n",
    "application_information['khame']['category_english_title'] = khame_base_data['category']['code']\n",
    "application_information['khame']['brands'] = [{'brand_id':brand['id'],'brand_persian_title':brand['title_fa'],'brand_english_title':brand['code']} for brand in khame_base_data['filters']['brands']['options']]"
   ]
  },
  {
   "cell_type": "code",
   "execution_count": 11,
   "id": "8468b2f3",
   "metadata": {},
   "outputs": [],
   "source": [
    "for product in khame_base_data['products']:\n",
    "\n",
    "    product_dict = {}\n",
    "\n",
    "    try:\n",
    "        product_dict['product_id'] = product['id']\n",
    "    except:\n",
    "        product_dict['product_id'] = '---'\n",
    "    try:\n",
    "        product_dict['product_persian_title'] = product['title_fa']\n",
    "    except:\n",
    "        product_dict['product_persian_title'] = '---'\n",
    "    try:\n",
    "        product_dict['product_english_title'] = product['title_en']\n",
    "    except:\n",
    "        product_dict['product_english_title'] = '---'\n",
    "    try:\n",
    "        product_dict['product_star_rate'] = product['rating']['rate']\n",
    "    except:\n",
    "        product_dict['product_star_rate'] = '---'\n",
    "    try:\n",
    "        product_dict['product_star_number_of_scorer'] = product['rating']['count']\n",
    "    except:\n",
    "        product_dict['product_star_number_of_scorer'] = '---'\n",
    "    try:\n",
    "        product_dict['product_status'] = product['status']\n",
    "    except:\n",
    "        product_dict['product_status'] = '---'\n",
    "    try:\n",
    "        product_dict['product_brand'] = product['data_layer']['brand']\n",
    "    except:\n",
    "        product_dict['product_brand'] = '---'\n",
    "    try:\n",
    "        product_dict['product_offer'] = product['data_layer']['dimension7']\n",
    "    except:\n",
    "        product_dict['product_offer'] = '---'\n",
    "    try:\n",
    "        product_dict['product_min_price_last_month'] = product['properties']['min_price_in_last_month']\n",
    "    except:\n",
    "        product_dict['product_min_price_last_month'] = '---'\n",
    "    try:\n",
    "        product_dict['product_satisfy_rate'] = product['default_variant']['statistics']['total_rate']\n",
    "    except:\n",
    "        product_dict['product_satisfy_rate'] = '---'\n",
    "    try:\n",
    "        product_dict['product_satisfy_number_of_scorer'] = product['default_variant']['statistics']['total_count']\n",
    "    except:\n",
    "        product_dict['product_satisfy_number_of_scorer'] = '---'\n",
    "    try:\n",
    "        product_dict['product_digiplus_cashback'] = product['default_variant']['digiplus']['cash_back']\n",
    "    except:\n",
    "        product_dict['product_digiplus_cashback'] = '---'\n",
    "    try:\n",
    "        product_dict['product_digiclub_point'] = product['default_variant']['digiclub']['point']\n",
    "    except:\n",
    "        product_dict['product_digiclub_point'] = '---'\n",
    "    try:\n",
    "        product_dict['product_selling_price'] = product['default_variant']['price']['selling_price']\n",
    "    except:\n",
    "        product_dict['product_selling_price'] = '---'\n",
    "    try:\n",
    "        product_dict['product_rrp_price'] = product['default_variant']['price']['rrp_price']\n",
    "    except:\n",
    "        product_dict['product_rrp_price'] = '---'\n",
    "    try:\n",
    "        product_dict['product_order_limit'] = product['default_variant']['price']['order_limit']\n",
    "    except:\n",
    "        product_dict['product_order_limit'] = '---'\n",
    "    try:\n",
    "        product_dict['product_discount_percent'] = product['default_variant']['price']['discount_percent']\n",
    "    except:\n",
    "        product_dict['product_discount_percent'] = '---'\n",
    "\n",
    "    application_products['khame'].append(product_dict)\n",
    "\n"
   ]
  },
  {
   "cell_type": "code",
   "execution_count": 12,
   "id": "f5347295",
   "metadata": {},
   "outputs": [],
   "source": [
    "# shir"
   ]
  },
  {
   "cell_type": "code",
   "execution_count": 13,
   "id": "8cae203e",
   "metadata": {},
   "outputs": [],
   "source": [
    "shir_base_url = 'https://api.digikala.com/v1/categories/milk/search/?page=1'"
   ]
  },
  {
   "cell_type": "code",
   "execution_count": 14,
   "id": "5d91ea09",
   "metadata": {},
   "outputs": [],
   "source": [
    "shir_base_response = requests.get(shir_base_url)"
   ]
  },
  {
   "cell_type": "code",
   "execution_count": 15,
   "id": "3d57244b",
   "metadata": {},
   "outputs": [],
   "source": [
    "shir_base_dict = json.loads(shir_base_response.text)"
   ]
  },
  {
   "cell_type": "code",
   "execution_count": 16,
   "id": "aa28bf5a",
   "metadata": {},
   "outputs": [],
   "source": [
    "shir_base_data = shir_base_dict['data']"
   ]
  },
  {
   "cell_type": "code",
   "execution_count": 17,
   "id": "a2a91d5d",
   "metadata": {},
   "outputs": [],
   "source": [
    "application_information['shir']['number_of_products'] = shir_base_data['pager']['total_items']\n",
    "application_information['shir']['number_of_pages'] = shir_base_data['pager']['total_pages']\n",
    "application_information['shir']['category_id'] = shir_base_data['category']['id']\n",
    "application_information['shir']['category_persian_title'] = shir_base_data['category']['title_fa']\n",
    "application_information['shir']['category_english_title'] = shir_base_data['category']['code']\n",
    "application_information['shir']['brands'] = [{'brand_id':brand['id'],'brand_persian_title':brand['title_fa'],'brand_english_title':brand['code']} for brand in shir_base_data['filters']['brands']['options']]"
   ]
  },
  {
   "cell_type": "code",
   "execution_count": 18,
   "id": "29d2ebf8",
   "metadata": {},
   "outputs": [],
   "source": [
    "for product in shir_base_data['products']:\n",
    "    \n",
    "    product_dict = {}\n",
    "\n",
    "    try:\n",
    "        product_dict['product_id'] = product['id']\n",
    "    except:\n",
    "        product_dict['product_id'] = '---'\n",
    "    try:\n",
    "        product_dict['product_persian_title'] = product['title_fa']\n",
    "    except:\n",
    "        product_dict['product_persian_title'] = '---'\n",
    "    try:\n",
    "        product_dict['product_english_title'] = product['title_en']\n",
    "    except:\n",
    "        product_dict['product_english_title'] = '---'\n",
    "    try:\n",
    "        product_dict['product_star_rate'] = product['rating']['rate']\n",
    "    except:\n",
    "        product_dict['product_star_rate'] = '---'\n",
    "    try:\n",
    "        product_dict['product_star_number_of_scorer'] = product['rating']['count']\n",
    "    except:\n",
    "        product_dict['product_star_number_of_scorer'] = '---'\n",
    "    try:\n",
    "        product_dict['product_status'] = product['status']\n",
    "    except:\n",
    "        product_dict['product_status'] = '---'\n",
    "    try:\n",
    "        product_dict['product_brand'] = product['data_layer']['brand']\n",
    "    except:\n",
    "        product_dict['product_brand'] = '---'\n",
    "    try:\n",
    "        product_dict['product_offer'] = product['data_layer']['dimension7']\n",
    "    except:\n",
    "        product_dict['product_offer'] = '---'\n",
    "    try:\n",
    "        product_dict['product_min_price_last_month'] = product['properties']['min_price_in_last_month']\n",
    "    except:\n",
    "        product_dict['product_min_price_last_month'] = '---'\n",
    "    try:\n",
    "        product_dict['product_satisfy_rate'] = product['default_variant']['statistics']['total_rate']\n",
    "    except:\n",
    "        product_dict['product_satisfy_rate'] = '---'\n",
    "    try:\n",
    "        product_dict['product_satisfy_number_of_scorer'] = product['default_variant']['statistics']['total_count']\n",
    "    except:\n",
    "        product_dict['product_satisfy_number_of_scorer'] = '---'\n",
    "    try:\n",
    "        product_dict['product_digiplus_cashback'] = product['default_variant']['digiplus']['cash_back']\n",
    "    except:\n",
    "        product_dict['product_digiplus_cashback'] = '---'\n",
    "    try:\n",
    "        product_dict['product_digiclub_point'] = product['default_variant']['digiclub']['point']\n",
    "    except:\n",
    "        product_dict['product_digiclub_point'] = '---'\n",
    "    try:\n",
    "        product_dict['product_selling_price'] = product['default_variant']['price']['selling_price']\n",
    "    except:\n",
    "        product_dict['product_selling_price'] = '---'\n",
    "    try:\n",
    "        product_dict['product_rrp_price'] = product['default_variant']['price']['rrp_price']\n",
    "    except:\n",
    "        product_dict['product_rrp_price'] = '---'\n",
    "    try:\n",
    "        product_dict['product_order_limit'] = product['default_variant']['price']['order_limit']\n",
    "    except:\n",
    "        product_dict['product_order_limit'] = '---'\n",
    "    try:\n",
    "        product_dict['product_discount_percent'] = product['default_variant']['price']['discount_percent']\n",
    "    except:\n",
    "        product_dict['product_discount_percent'] = '---'\n",
    "\n",
    "    application_products['shir'].append(product_dict)\n",
    "\n"
   ]
  },
  {
   "cell_type": "code",
   "execution_count": 19,
   "id": "fbbcb61a",
   "metadata": {},
   "outputs": [],
   "source": [
    "# mast"
   ]
  },
  {
   "cell_type": "code",
   "execution_count": 20,
   "id": "b7f0c35c",
   "metadata": {},
   "outputs": [],
   "source": [
    "mast_base_url = 'https://api.digikala.com/v1/categories/yogurt/search/?page=1'"
   ]
  },
  {
   "cell_type": "code",
   "execution_count": 21,
   "id": "ea0496c0",
   "metadata": {},
   "outputs": [],
   "source": [
    "mast_base_response = requests.get(mast_base_url)"
   ]
  },
  {
   "cell_type": "code",
   "execution_count": 22,
   "id": "4c447079",
   "metadata": {},
   "outputs": [],
   "source": [
    "mast_base_dict = json.loads(mast_base_response.text)"
   ]
  },
  {
   "cell_type": "code",
   "execution_count": 23,
   "id": "3a07a4ef",
   "metadata": {},
   "outputs": [],
   "source": [
    "mast_base_data = mast_base_dict['data']"
   ]
  },
  {
   "cell_type": "code",
   "execution_count": 24,
   "id": "f98e9cc2",
   "metadata": {},
   "outputs": [],
   "source": [
    "application_information['mast']['number_of_products'] = mast_base_data['pager']['total_items']\n",
    "application_information['mast']['number_of_pages'] = mast_base_data['pager']['total_pages']\n",
    "application_information['mast']['category_id'] = mast_base_data['category']['id']\n",
    "application_information['mast']['category_persian_title'] = mast_base_data['category']['title_fa']\n",
    "application_information['mast']['category_english_title'] = mast_base_data['category']['code']\n",
    "application_information['mast']['brands'] = [{'brand_id':brand['id'],'brand_persian_title':brand['title_fa'],'brand_english_title':brand['code']} for brand in mast_base_data['filters']['brands']['options']]"
   ]
  },
  {
   "cell_type": "code",
   "execution_count": 25,
   "id": "f33e870e",
   "metadata": {},
   "outputs": [],
   "source": [
    "for product in mast_base_data['products']:\n",
    "    \n",
    "    product_dict = {}\n",
    "\n",
    "    try:\n",
    "        product_dict['product_id'] = product['id']\n",
    "    except:\n",
    "        product_dict['product_id'] = '---'\n",
    "    try:\n",
    "        product_dict['product_persian_title'] = product['title_fa']\n",
    "    except:\n",
    "        product_dict['product_persian_title'] = '---'\n",
    "    try:\n",
    "        product_dict['product_english_title'] = product['title_en']\n",
    "    except:\n",
    "        product_dict['product_english_title'] = '---'\n",
    "    try:\n",
    "        product_dict['product_star_rate'] = product['rating']['rate']\n",
    "    except:\n",
    "        product_dict['product_star_rate'] = '---'\n",
    "    try:\n",
    "        product_dict['product_star_number_of_scorer'] = product['rating']['count']\n",
    "    except:\n",
    "        product_dict['product_star_number_of_scorer'] = '---'\n",
    "    try:\n",
    "        product_dict['product_status'] = product['status']\n",
    "    except:\n",
    "        product_dict['product_status'] = '---'\n",
    "    try:\n",
    "        product_dict['product_brand'] = product['data_layer']['brand']\n",
    "    except:\n",
    "        product_dict['product_brand'] = '---'\n",
    "    try:\n",
    "        product_dict['product_offer'] = product['data_layer']['dimension7']\n",
    "    except:\n",
    "        product_dict['product_offer'] = '---'\n",
    "    try:\n",
    "        product_dict['product_min_price_last_month'] = product['properties']['min_price_in_last_month']\n",
    "    except:\n",
    "        product_dict['product_min_price_last_month'] = '---'\n",
    "    try:\n",
    "        product_dict['product_satisfy_rate'] = product['default_variant']['statistics']['total_rate']\n",
    "    except:\n",
    "        product_dict['product_satisfy_rate'] = '---'\n",
    "    try:\n",
    "        product_dict['product_satisfy_number_of_scorer'] = product['default_variant']['statistics']['total_count']\n",
    "    except:\n",
    "        product_dict['product_satisfy_number_of_scorer'] = '---'\n",
    "    try:\n",
    "        product_dict['product_digiplus_cashback'] = product['default_variant']['digiplus']['cash_back']\n",
    "    except:\n",
    "        product_dict['product_digiplus_cashback'] = '---'\n",
    "    try:\n",
    "        product_dict['product_digiclub_point'] = product['default_variant']['digiclub']['point']\n",
    "    except:\n",
    "        product_dict['product_digiclub_point'] = '---'\n",
    "    try:\n",
    "        product_dict['product_selling_price'] = product['default_variant']['price']['selling_price']\n",
    "    except:\n",
    "        product_dict['product_selling_price'] = '---'\n",
    "    try:\n",
    "        product_dict['product_rrp_price'] = product['default_variant']['price']['rrp_price']\n",
    "    except:\n",
    "        product_dict['product_rrp_price'] = '---'\n",
    "    try:\n",
    "        product_dict['product_order_limit'] = product['default_variant']['price']['order_limit']\n",
    "    except:\n",
    "        product_dict['product_order_limit'] = '---'\n",
    "    try:\n",
    "        product_dict['product_discount_percent'] = product['default_variant']['price']['discount_percent']\n",
    "    except:\n",
    "        product_dict['product_discount_percent'] = '---'\n",
    "\n",
    "    application_products['mast'].append(product_dict)\n",
    "\n"
   ]
  },
  {
   "cell_type": "code",
   "execution_count": 26,
   "id": "c382b32c",
   "metadata": {},
   "outputs": [],
   "source": [
    "# doogh"
   ]
  },
  {
   "cell_type": "code",
   "execution_count": 27,
   "id": "eaa71b47",
   "metadata": {},
   "outputs": [],
   "source": [
    "doogh_base_url = 'https://api.digikala.com/v1/categories/doogh/search/?page=1'"
   ]
  },
  {
   "cell_type": "code",
   "execution_count": 28,
   "id": "f08fd033",
   "metadata": {},
   "outputs": [],
   "source": [
    "doogh_base_response = requests.get(doogh_base_url)"
   ]
  },
  {
   "cell_type": "code",
   "execution_count": 29,
   "id": "c499aaa4",
   "metadata": {},
   "outputs": [],
   "source": [
    "doogh_base_dict = json.loads(doogh_base_response.text)"
   ]
  },
  {
   "cell_type": "code",
   "execution_count": 30,
   "id": "7054ceb8",
   "metadata": {},
   "outputs": [],
   "source": [
    "doogh_base_data = doogh_base_dict['data']"
   ]
  },
  {
   "cell_type": "code",
   "execution_count": 31,
   "id": "f567352a",
   "metadata": {},
   "outputs": [],
   "source": [
    "application_information['doogh']['number_of_products'] = doogh_base_data['pager']['total_items']\n",
    "application_information['doogh']['number_of_pages'] = doogh_base_data['pager']['total_pages']\n",
    "application_information['doogh']['category_id'] = doogh_base_data['category']['id']\n",
    "application_information['doogh']['category_persian_title'] = doogh_base_data['category']['title_fa']\n",
    "application_information['doogh']['category_english_title'] = doogh_base_data['category']['code']\n",
    "application_information['doogh']['brands'] = [{'brand_id':brand['id'],'brand_persian_title':brand['title_fa'],'brand_english_title':brand['code']} for brand in doogh_base_data['filters']['brands']['options']]"
   ]
  },
  {
   "cell_type": "code",
   "execution_count": 32,
   "id": "72269acd",
   "metadata": {},
   "outputs": [],
   "source": [
    "for product in doogh_base_data['products']:\n",
    "    \n",
    "    product_dict = {}\n",
    "\n",
    "    try:\n",
    "        product_dict['product_id'] = product['id']\n",
    "    except:\n",
    "        product_dict['product_id'] = '---'\n",
    "    try:\n",
    "        product_dict['product_persian_title'] = product['title_fa']\n",
    "    except:\n",
    "        product_dict['product_persian_title'] = '---'\n",
    "    try:\n",
    "        product_dict['product_english_title'] = product['title_en']\n",
    "    except:\n",
    "        product_dict['product_english_title'] = '---'\n",
    "    try:\n",
    "        product_dict['product_star_rate'] = product['rating']['rate']\n",
    "    except:\n",
    "        product_dict['product_star_rate'] = '---'\n",
    "    try:\n",
    "        product_dict['product_star_number_of_scorer'] = product['rating']['count']\n",
    "    except:\n",
    "        product_dict['product_star_number_of_scorer'] = '---'\n",
    "    try:\n",
    "        product_dict['product_status'] = product['status']\n",
    "    except:\n",
    "        product_dict['product_status'] = '---'\n",
    "    try:\n",
    "        product_dict['product_brand'] = product['data_layer']['brand']\n",
    "    except:\n",
    "        product_dict['product_brand'] = '---'\n",
    "    try:\n",
    "        product_dict['product_offer'] = product['data_layer']['dimension7']\n",
    "    except:\n",
    "        product_dict['product_offer'] = '---'\n",
    "    try:\n",
    "        product_dict['product_min_price_last_month'] = product['properties']['min_price_in_last_month']\n",
    "    except:\n",
    "        product_dict['product_min_price_last_month'] = '---'\n",
    "    try:\n",
    "        product_dict['product_satisfy_rate'] = product['default_variant']['statistics']['total_rate']\n",
    "    except:\n",
    "        product_dict['product_satisfy_rate'] = '---'\n",
    "    try:\n",
    "        product_dict['product_satisfy_number_of_scorer'] = product['default_variant']['statistics']['total_count']\n",
    "    except:\n",
    "        product_dict['product_satisfy_number_of_scorer'] = '---'\n",
    "    try:\n",
    "        product_dict['product_digiplus_cashback'] = product['default_variant']['digiplus']['cash_back']\n",
    "    except:\n",
    "        product_dict['product_digiplus_cashback'] = '---'\n",
    "    try:\n",
    "        product_dict['product_digiclub_point'] = product['default_variant']['digiclub']['point']\n",
    "    except:\n",
    "        product_dict['product_digiclub_point'] = '---'\n",
    "    try:\n",
    "        product_dict['product_selling_price'] = product['default_variant']['price']['selling_price']\n",
    "    except:\n",
    "        product_dict['product_selling_price'] = '---'\n",
    "    try:\n",
    "        product_dict['product_rrp_price'] = product['default_variant']['price']['rrp_price']\n",
    "    except:\n",
    "        product_dict['product_rrp_price'] = '---'\n",
    "    try:\n",
    "        product_dict['product_order_limit'] = product['default_variant']['price']['order_limit']\n",
    "    except:\n",
    "        product_dict['product_order_limit'] = '---'\n",
    "    try:\n",
    "        product_dict['product_discount_percent'] = product['default_variant']['price']['discount_percent']\n",
    "    except:\n",
    "        product_dict['product_discount_percent'] = '---'\n",
    "\n",
    "    application_products['doogh'].append(product_dict)\n",
    "\n"
   ]
  },
  {
   "cell_type": "code",
   "execution_count": 33,
   "id": "b16c8871",
   "metadata": {},
   "outputs": [],
   "source": [
    "# panir"
   ]
  },
  {
   "cell_type": "code",
   "execution_count": 34,
   "id": "b9d4927c",
   "metadata": {},
   "outputs": [],
   "source": [
    "panir_base_url = 'https://api.digikala.com/v1/categories/cheese/search/?page=1'"
   ]
  },
  {
   "cell_type": "code",
   "execution_count": 35,
   "id": "bbc27a75",
   "metadata": {},
   "outputs": [],
   "source": [
    "panir_base_response = requests.get(panir_base_url)"
   ]
  },
  {
   "cell_type": "code",
   "execution_count": 36,
   "id": "02e88116",
   "metadata": {},
   "outputs": [],
   "source": [
    "panir_base_dict = json.loads(panir_base_response.text)"
   ]
  },
  {
   "cell_type": "code",
   "execution_count": 37,
   "id": "0fa0b646",
   "metadata": {},
   "outputs": [],
   "source": [
    "panir_base_data = panir_base_dict['data']"
   ]
  },
  {
   "cell_type": "code",
   "execution_count": 38,
   "id": "70f47eff",
   "metadata": {},
   "outputs": [],
   "source": [
    "application_information['panir']['number_of_products'] = panir_base_data['pager']['total_items']\n",
    "application_information['panir']['number_of_pages'] = panir_base_data['pager']['total_pages']\n",
    "application_information['panir']['category_id'] = panir_base_data['category']['id']\n",
    "application_information['panir']['category_persian_title'] = panir_base_data['category']['title_fa']\n",
    "application_information['panir']['category_english_title'] = panir_base_data['category']['code']\n",
    "application_information['panir']['brands'] = [{'brand_id':brand['id'],'brand_persian_title':brand['title_fa'],'brand_english_title':brand['code']} for brand in panir_base_data['filters']['brands']['options']]"
   ]
  },
  {
   "cell_type": "code",
   "execution_count": 39,
   "id": "dedd5c8b",
   "metadata": {},
   "outputs": [],
   "source": [
    "for product in panir_base_data['products']:\n",
    "    \n",
    "    product_dict = {}\n",
    "\n",
    "    try:\n",
    "        product_dict['product_id'] = product['id']\n",
    "    except:\n",
    "        product_dict['product_id'] = '---'\n",
    "    try:\n",
    "        product_dict['product_persian_title'] = product['title_fa']\n",
    "    except:\n",
    "        product_dict['product_persian_title'] = '---'\n",
    "    try:\n",
    "        product_dict['product_english_title'] = product['title_en']\n",
    "    except:\n",
    "        product_dict['product_english_title'] = '---'\n",
    "    try:\n",
    "        product_dict['product_star_rate'] = product['rating']['rate']\n",
    "    except:\n",
    "        product_dict['product_star_rate'] = '---'\n",
    "    try:\n",
    "        product_dict['product_star_number_of_scorer'] = product['rating']['count']\n",
    "    except:\n",
    "        product_dict['product_star_number_of_scorer'] = '---'\n",
    "    try:\n",
    "        product_dict['product_status'] = product['status']\n",
    "    except:\n",
    "        product_dict['product_status'] = '---'\n",
    "    try:\n",
    "        product_dict['product_brand'] = product['data_layer']['brand']\n",
    "    except:\n",
    "        product_dict['product_brand'] = '---'\n",
    "    try:\n",
    "        product_dict['product_offer'] = product['data_layer']['dimension7']\n",
    "    except:\n",
    "        product_dict['product_offer'] = '---'\n",
    "    try:\n",
    "        product_dict['product_min_price_last_month'] = product['properties']['min_price_in_last_month']\n",
    "    except:\n",
    "        product_dict['product_min_price_last_month'] = '---'\n",
    "    try:\n",
    "        product_dict['product_satisfy_rate'] = product['default_variant']['statistics']['total_rate']\n",
    "    except:\n",
    "        product_dict['product_satisfy_rate'] = '---'\n",
    "    try:\n",
    "        product_dict['product_satisfy_number_of_scorer'] = product['default_variant']['statistics']['total_count']\n",
    "    except:\n",
    "        product_dict['product_satisfy_number_of_scorer'] = '---'\n",
    "    try:\n",
    "        product_dict['product_digiplus_cashback'] = product['default_variant']['digiplus']['cash_back']\n",
    "    except:\n",
    "        product_dict['product_digiplus_cashback'] = '---'\n",
    "    try:\n",
    "        product_dict['product_digiclub_point'] = product['default_variant']['digiclub']['point']\n",
    "    except:\n",
    "        product_dict['product_digiclub_point'] = '---'\n",
    "    try:\n",
    "        product_dict['product_selling_price'] = product['default_variant']['price']['selling_price']\n",
    "    except:\n",
    "        product_dict['product_selling_price'] = '---'\n",
    "    try:\n",
    "        product_dict['product_rrp_price'] = product['default_variant']['price']['rrp_price']\n",
    "    except:\n",
    "        product_dict['product_rrp_price'] = '---'\n",
    "    try:\n",
    "        product_dict['product_order_limit'] = product['default_variant']['price']['order_limit']\n",
    "    except:\n",
    "        product_dict['product_order_limit'] = '---'\n",
    "    try:\n",
    "        product_dict['product_discount_percent'] = product['default_variant']['price']['discount_percent']\n",
    "    except:\n",
    "        product_dict['product_discount_percent'] = '---'\n",
    "\n",
    "    application_products['panir'].append(product_dict)\n",
    "\n"
   ]
  },
  {
   "cell_type": "code",
   "execution_count": 40,
   "id": "f0f747c0",
   "metadata": {},
   "outputs": [],
   "source": [
    "# kashk"
   ]
  },
  {
   "cell_type": "code",
   "execution_count": 41,
   "id": "63850e07",
   "metadata": {},
   "outputs": [],
   "source": [
    "kashk_base_url = 'https://api.digikala.com/v1/categories/whey/search/?page=1'"
   ]
  },
  {
   "cell_type": "code",
   "execution_count": 42,
   "id": "72bcc6ba",
   "metadata": {},
   "outputs": [],
   "source": [
    "kashk_base_response = requests.get(kashk_base_url)"
   ]
  },
  {
   "cell_type": "code",
   "execution_count": 43,
   "id": "cbe334ba",
   "metadata": {},
   "outputs": [],
   "source": [
    "kashk_base_dict = json.loads(kashk_base_response.text)"
   ]
  },
  {
   "cell_type": "code",
   "execution_count": 44,
   "id": "cc861608",
   "metadata": {},
   "outputs": [],
   "source": [
    "kashk_base_data = kashk_base_dict['data']"
   ]
  },
  {
   "cell_type": "code",
   "execution_count": 45,
   "id": "8faf4d21",
   "metadata": {},
   "outputs": [],
   "source": [
    "application_information['kashk']['number_of_products'] = kashk_base_data['pager']['total_items']\n",
    "application_information['kashk']['number_of_pages'] = kashk_base_data['pager']['total_pages']\n",
    "application_information['kashk']['category_id'] = kashk_base_data['category']['id']\n",
    "application_information['kashk']['category_persian_title'] = kashk_base_data['category']['title_fa']\n",
    "application_information['kashk']['category_english_title'] = kashk_base_data['category']['code']\n",
    "application_information['kashk']['brands'] = [{'brand_id':brand['id'],'brand_persian_title':brand['title_fa'],'brand_english_title':brand['code']} for brand in kashk_base_data['filters']['brands']['options']]"
   ]
  },
  {
   "cell_type": "code",
   "execution_count": 46,
   "id": "2c6dfc39",
   "metadata": {},
   "outputs": [],
   "source": [
    "for product in kashk_base_data['products']:\n",
    "    \n",
    "    product_dict = {}\n",
    "\n",
    "    try:\n",
    "        product_dict['product_id'] = product['id']\n",
    "    except:\n",
    "        product_dict['product_id'] = '---'\n",
    "    try:\n",
    "        product_dict['product_persian_title'] = product['title_fa']\n",
    "    except:\n",
    "        product_dict['product_persian_title'] = '---'\n",
    "    try:\n",
    "        product_dict['product_english_title'] = product['title_en']\n",
    "    except:\n",
    "        product_dict['product_english_title'] = '---'\n",
    "    try:\n",
    "        product_dict['product_star_rate'] = product['rating']['rate']\n",
    "    except:\n",
    "        product_dict['product_star_rate'] = '---'\n",
    "    try:\n",
    "        product_dict['product_star_number_of_scorer'] = product['rating']['count']\n",
    "    except:\n",
    "        product_dict['product_star_number_of_scorer'] = '---'\n",
    "    try:\n",
    "        product_dict['product_status'] = product['status']\n",
    "    except:\n",
    "        product_dict['product_status'] = '---'\n",
    "    try:\n",
    "        product_dict['product_brand'] = product['data_layer']['brand']\n",
    "    except:\n",
    "        product_dict['product_brand'] = '---'\n",
    "    try:\n",
    "        product_dict['product_offer'] = product['data_layer']['dimension7']\n",
    "    except:\n",
    "        product_dict['product_offer'] = '---'\n",
    "    try:\n",
    "        product_dict['product_min_price_last_month'] = product['properties']['min_price_in_last_month']\n",
    "    except:\n",
    "        product_dict['product_min_price_last_month'] = '---'\n",
    "    try:\n",
    "        product_dict['product_satisfy_rate'] = product['default_variant']['statistics']['total_rate']\n",
    "    except:\n",
    "        product_dict['product_satisfy_rate'] = '---'\n",
    "    try:\n",
    "        product_dict['product_satisfy_number_of_scorer'] = product['default_variant']['statistics']['total_count']\n",
    "    except:\n",
    "        product_dict['product_satisfy_number_of_scorer'] = '---'\n",
    "    try:\n",
    "        product_dict['product_digiplus_cashback'] = product['default_variant']['digiplus']['cash_back']\n",
    "    except:\n",
    "        product_dict['product_digiplus_cashback'] = '---'\n",
    "    try:\n",
    "        product_dict['product_digiclub_point'] = product['default_variant']['digiclub']['point']\n",
    "    except:\n",
    "        product_dict['product_digiclub_point'] = '---'\n",
    "    try:\n",
    "        product_dict['product_selling_price'] = product['default_variant']['price']['selling_price']\n",
    "    except:\n",
    "        product_dict['product_selling_price'] = '---'\n",
    "    try:\n",
    "        product_dict['product_rrp_price'] = product['default_variant']['price']['rrp_price']\n",
    "    except:\n",
    "        product_dict['product_rrp_price'] = '---'\n",
    "    try:\n",
    "        product_dict['product_order_limit'] = product['default_variant']['price']['order_limit']\n",
    "    except:\n",
    "        product_dict['product_order_limit'] = '---'\n",
    "    try:\n",
    "        product_dict['product_discount_percent'] = product['default_variant']['price']['discount_percent']\n",
    "    except:\n",
    "        product_dict['product_discount_percent'] = '---'\n",
    "\n",
    "    application_products['kashk'].append(product_dict)\n",
    "\n"
   ]
  },
  {
   "cell_type": "code",
   "execution_count": 47,
   "id": "d90e5595",
   "metadata": {},
   "outputs": [],
   "source": [
    "# deser"
   ]
  },
  {
   "cell_type": "code",
   "execution_count": 48,
   "id": "82cb8c55",
   "metadata": {},
   "outputs": [],
   "source": [
    "deser_base_url = 'https://api.digikala.com/v1/categories/ready-dessert/search/?page=1'"
   ]
  },
  {
   "cell_type": "code",
   "execution_count": 49,
   "id": "e0b0e354",
   "metadata": {},
   "outputs": [],
   "source": [
    "deser_base_response = requests.get(deser_base_url)"
   ]
  },
  {
   "cell_type": "code",
   "execution_count": 50,
   "id": "f22ae585",
   "metadata": {},
   "outputs": [],
   "source": [
    "deser_base_dict = json.loads(deser_base_response.text)"
   ]
  },
  {
   "cell_type": "code",
   "execution_count": 51,
   "id": "ad89a400",
   "metadata": {},
   "outputs": [],
   "source": [
    "deser_base_data = deser_base_dict['data']"
   ]
  },
  {
   "cell_type": "code",
   "execution_count": 52,
   "id": "7668be1d",
   "metadata": {},
   "outputs": [],
   "source": [
    "application_information['deser']['number_of_products'] = deser_base_data['pager']['total_items']\n",
    "application_information['deser']['number_of_pages'] = deser_base_data['pager']['total_pages']\n",
    "application_information['deser']['category_id'] = deser_base_data['category']['id']\n",
    "application_information['deser']['category_persian_title'] = deser_base_data['category']['title_fa']\n",
    "application_information['deser']['category_english_title'] = deser_base_data['category']['code']\n",
    "application_information['deser']['brands'] = [{'brand_id':brand['id'],'brand_persian_title':brand['title_fa'],'brand_english_title':brand['code']} for brand in deser_base_data['filters']['brands']['options']]"
   ]
  },
  {
   "cell_type": "code",
   "execution_count": 53,
   "id": "04eafdf0",
   "metadata": {},
   "outputs": [],
   "source": [
    "for product in deser_base_data['products']:\n",
    "    \n",
    "    product_dict = {}\n",
    "\n",
    "    try:\n",
    "        product_dict['product_id'] = product['id']\n",
    "    except:\n",
    "        product_dict['product_id'] = '---'\n",
    "    try:\n",
    "        product_dict['product_persian_title'] = product['title_fa']\n",
    "    except:\n",
    "        product_dict['product_persian_title'] = '---'\n",
    "    try:\n",
    "        product_dict['product_english_title'] = product['title_en']\n",
    "    except:\n",
    "        product_dict['product_english_title'] = '---'\n",
    "    try:\n",
    "        product_dict['product_star_rate'] = product['rating']['rate']\n",
    "    except:\n",
    "        product_dict['product_star_rate'] = '---'\n",
    "    try:\n",
    "        product_dict['product_star_number_of_scorer'] = product['rating']['count']\n",
    "    except:\n",
    "        product_dict['product_star_number_of_scorer'] = '---'\n",
    "    try:\n",
    "        product_dict['product_status'] = product['status']\n",
    "    except:\n",
    "        product_dict['product_status'] = '---'\n",
    "    try:\n",
    "        product_dict['product_brand'] = product['data_layer']['brand']\n",
    "    except:\n",
    "        product_dict['product_brand'] = '---'\n",
    "    try:\n",
    "        product_dict['product_offer'] = product['data_layer']['dimension7']\n",
    "    except:\n",
    "        product_dict['product_offer'] = '---'\n",
    "    try:\n",
    "        product_dict['product_min_price_last_month'] = product['properties']['min_price_in_last_month']\n",
    "    except:\n",
    "        product_dict['product_min_price_last_month'] = '---'\n",
    "    try:\n",
    "        product_dict['product_satisfy_rate'] = product['default_variant']['statistics']['total_rate']\n",
    "    except:\n",
    "        product_dict['product_satisfy_rate'] = '---'\n",
    "    try:\n",
    "        product_dict['product_satisfy_number_of_scorer'] = product['default_variant']['statistics']['total_count']\n",
    "    except:\n",
    "        product_dict['product_satisfy_number_of_scorer'] = '---'\n",
    "    try:\n",
    "        product_dict['product_digiplus_cashback'] = product['default_variant']['digiplus']['cash_back']\n",
    "    except:\n",
    "        product_dict['product_digiplus_cashback'] = '---'\n",
    "    try:\n",
    "        product_dict['product_digiclub_point'] = product['default_variant']['digiclub']['point']\n",
    "    except:\n",
    "        product_dict['product_digiclub_point'] = '---'\n",
    "    try:\n",
    "        product_dict['product_selling_price'] = product['default_variant']['price']['selling_price']\n",
    "    except:\n",
    "        product_dict['product_selling_price'] = '---'\n",
    "    try:\n",
    "        product_dict['product_rrp_price'] = product['default_variant']['price']['rrp_price']\n",
    "    except:\n",
    "        product_dict['product_rrp_price'] = '---'\n",
    "    try:\n",
    "        product_dict['product_order_limit'] = product['default_variant']['price']['order_limit']\n",
    "    except:\n",
    "        product_dict['product_order_limit'] = '---'\n",
    "    try:\n",
    "        product_dict['product_discount_percent'] = product['default_variant']['price']['discount_percent']\n",
    "    except:\n",
    "        product_dict['product_discount_percent'] = '---'\n",
    "\n",
    "    application_products['deser'].append(product_dict)\n",
    "\n"
   ]
  },
  {
   "cell_type": "code",
   "execution_count": 54,
   "id": "0891ccf5",
   "metadata": {},
   "outputs": [],
   "source": [
    "# loop and more information"
   ]
  },
  {
   "cell_type": "code",
   "execution_count": 55,
   "id": "03d906ac",
   "metadata": {},
   "outputs": [],
   "source": [
    "# application_information"
   ]
  },
  {
   "cell_type": "code",
   "execution_count": 56,
   "id": "8a9bfafb",
   "metadata": {},
   "outputs": [],
   "source": [
    "# application_products"
   ]
  },
  {
   "cell_type": "code",
   "execution_count": 57,
   "id": "ea4518b8",
   "metadata": {},
   "outputs": [],
   "source": [
    "for category in list(application_products.keys()):\n",
    "    category_title = application_information[category]['category_english_title']\n",
    "    for page_number in range(2, (application_information[category]['number_of_pages'])+1):\n",
    "        url = 'https://api.digikala.com/v1/categories/{}/search/?page={}'.format(\n",
    "            category_title, page_number)\n",
    "        products_response = requests.get(url)\n",
    "        products_dict = json.loads(products_response.text)\n",
    "        products_data = products_dict['data']\n",
    "\n",
    "        for product in products_data['products']:\n",
    "\n",
    "            product_dict = {}\n",
    "\n",
    "            try:\n",
    "                product_dict['product_id'] = product['id']\n",
    "            except:\n",
    "                product_dict['product_id'] = '---'\n",
    "            try:\n",
    "                product_dict['product_persian_title'] = product['title_fa']\n",
    "            except:\n",
    "                product_dict['product_persian_title'] = '---'\n",
    "            try:\n",
    "                product_dict['product_english_title'] = product['title_en']\n",
    "            except:\n",
    "                product_dict['product_english_title'] = '---'\n",
    "            try:\n",
    "                product_dict['product_star_rate'] = product['rating']['rate']\n",
    "            except:\n",
    "                product_dict['product_star_rate'] = '---'\n",
    "            try:\n",
    "                product_dict['product_star_number_of_scorer'] = product['rating']['count']\n",
    "            except:\n",
    "                product_dict['product_star_number_of_scorer'] = '---'\n",
    "            try:\n",
    "                product_dict['product_status'] = product['status']\n",
    "            except:\n",
    "                product_dict['product_status'] = '---'\n",
    "            try:\n",
    "                product_dict['product_brand'] = product['data_layer']['brand']\n",
    "            except:\n",
    "                product_dict['product_brand'] = '---'\n",
    "            try:\n",
    "                product_dict['product_offer'] = product['data_layer']['dimension7']\n",
    "            except:\n",
    "                product_dict['product_offer'] = '---'\n",
    "            try:\n",
    "                product_dict['product_min_price_last_month'] = product['properties']['min_price_in_last_month']\n",
    "            except:\n",
    "                product_dict['product_min_price_last_month'] = '---'\n",
    "            try:\n",
    "                product_dict['product_satisfy_rate'] = product['default_variant']['statistics']['total_rate']\n",
    "            except:\n",
    "                product_dict['product_satisfy_rate'] = '---'\n",
    "            try:\n",
    "                product_dict['product_satisfy_number_of_scorer'] = product['default_variant']['statistics']['total_count']\n",
    "            except:\n",
    "                product_dict['product_satisfy_number_of_scorer'] = '---'\n",
    "            try:\n",
    "                product_dict['product_digiplus_cashback'] = product['default_variant']['digiplus']['cash_back']\n",
    "            except:\n",
    "                product_dict['product_digiplus_cashback'] = '---'\n",
    "            try:\n",
    "                product_dict['product_digiclub_point'] = product['default_variant']['digiclub']['point']\n",
    "            except:\n",
    "                product_dict['product_digiclub_point'] = '---'\n",
    "            try:\n",
    "                product_dict['product_selling_price'] = product['default_variant']['price']['selling_price']\n",
    "            except:\n",
    "                product_dict['product_selling_price'] = '---'\n",
    "            try:\n",
    "                product_dict['product_rrp_price'] = product['default_variant']['price']['rrp_price']\n",
    "            except:\n",
    "                product_dict['product_rrp_price'] = '---'\n",
    "            try:\n",
    "                product_dict['product_order_limit'] = product['default_variant']['price']['order_limit']\n",
    "            except:\n",
    "                product_dict['product_order_limit'] = '---'\n",
    "            try:\n",
    "                product_dict['product_discount_percent'] = product['default_variant']['price']['discount_percent']\n",
    "            except:\n",
    "                product_dict['product_discount_percent'] = '---'\n",
    "\n",
    "            application_products[category].append(product_dict)\n"
   ]
  },
  {
   "cell_type": "code",
   "execution_count": 58,
   "id": "927c636e",
   "metadata": {},
   "outputs": [],
   "source": [
    "# application_products"
   ]
  },
  {
   "cell_type": "code",
   "execution_count": 59,
   "id": "de8a9159",
   "metadata": {},
   "outputs": [],
   "source": [
    "# write in excel"
   ]
  },
  {
   "cell_type": "code",
   "execution_count": 60,
   "id": "0bb5b349",
   "metadata": {},
   "outputs": [],
   "source": [
    "col_names = ['کد محصول','نام فارسی محصول','نام انگلیسی محصول','نرخ ستاره محصول','تعداد نفرات امتیاز دهنده ستاره محصول','وضعیت محصول','برند محصول','نوع پیشنهاد فروش محصول','کمترین قیمت در ماه گذشته محصول','نرخ رضایت محصول','تعداد نفرات ثبت رضایت محصول','مقدار جایزه دیجی پلاس محصول','مقدار امتیاز دیجی کلاب محصول','قیمت فروش محصول','قیمت اصلی محصول','حداکثر تعداد سفارش محصول','درصد تخفیف محصول']"
   ]
  },
  {
   "cell_type": "code",
   "execution_count": 61,
   "id": "17d02e2a",
   "metadata": {},
   "outputs": [],
   "source": [
    "def status_translate(x):\n",
    "    if(x=='marketable'):\n",
    "        return 'قابل فروش'\n",
    "    if(x=='coming_soon'):\n",
    "        return 'به زودی'\n",
    "    if(x=='in_supply'):\n",
    "        return 'در حال تامین'\n",
    "    if(x=='stop_production'):\n",
    "        return 'توقف تولید' "
   ]
  },
  {
   "cell_type": "code",
   "execution_count": 62,
   "id": "6e99376f",
   "metadata": {},
   "outputs": [],
   "source": [
    "def offer_translate(x):\n",
    "    if(x=='none'):\n",
    "        return 'معمولی'\n",
    "    if(x=='special-offer'):\n",
    "        return 'فروش ویژه'\n",
    "    if(x=='incredible'):\n",
    "        return 'پیشنهاد شگفت انگیز'"
   ]
  },
  {
   "cell_type": "code",
   "execution_count": 63,
   "id": "a271b4dd",
   "metadata": {},
   "outputs": [],
   "source": [
    "def rial_be_toman(x):\n",
    "    try:\n",
    "        return int(x/10)\n",
    "    except:\n",
    "        return '---'"
   ]
  },
  {
   "cell_type": "code",
   "execution_count": 64,
   "id": "c2896c47",
   "metadata": {},
   "outputs": [],
   "source": [
    "with pd.ExcelWriter(\"Products_Price_Digi.xlsx\") as writer:\n",
    "    for category in list(application_products.keys()):\n",
    "        df = pd.DataFrame(application_products[category])\n",
    "        df['product_status'] = df['product_status'].apply(lambda x: status_translate(x))\n",
    "        df['product_offer'] = df['product_offer'].apply(lambda x: offer_translate(x))\n",
    "        df['product_min_price_last_month'] = df['product_min_price_last_month'].apply(lambda x: rial_be_toman(x))\n",
    "        df['product_digiplus_cashback'] = df['product_digiplus_cashback'].apply(lambda x: rial_be_toman(x))\n",
    "        df['product_selling_price'] = df['product_selling_price'].apply(lambda x: rial_be_toman(x))\n",
    "        df['product_rrp_price'] = df['product_rrp_price'].apply(lambda x: rial_be_toman(x))\n",
    "        df.columns = col_names\n",
    "        df = df.drop(['کد محصول','نام انگلیسی محصول'],axis=1)\n",
    "        df.to_excel(writer, sheet_name=category, index=False)"
   ]
  },
  {
   "cell_type": "code",
   "execution_count": 138,
   "id": "aa1c1a69",
   "metadata": {},
   "outputs": [],
   "source": []
  },
  {
   "cell_type": "code",
   "execution_count": 144,
   "id": "210c26df",
   "metadata": {},
   "outputs": [],
   "source": []
  },
  {
   "cell_type": "code",
   "execution_count": 145,
   "id": "3fd0837f",
   "metadata": {},
   "outputs": [],
   "source": []
  },
  {
   "cell_type": "code",
   "execution_count": 153,
   "id": "c844fc0c",
   "metadata": {},
   "outputs": [],
   "source": []
  },
  {
   "cell_type": "code",
   "execution_count": null,
   "id": "7c6b8528",
   "metadata": {},
   "outputs": [],
   "source": []
  },
  {
   "cell_type": "code",
   "execution_count": 147,
   "id": "025a4f5e",
   "metadata": {},
   "outputs": [],
   "source": []
  },
  {
   "cell_type": "code",
   "execution_count": 148,
   "id": "83d1ae21",
   "metadata": {},
   "outputs": [],
   "source": []
  },
  {
   "cell_type": "code",
   "execution_count": null,
   "id": "fa6adf1c",
   "metadata": {},
   "outputs": [],
   "source": []
  },
  {
   "cell_type": "code",
   "execution_count": null,
   "id": "8d4ae511",
   "metadata": {},
   "outputs": [],
   "source": []
  },
  {
   "cell_type": "code",
   "execution_count": null,
   "id": "c48dcc65",
   "metadata": {},
   "outputs": [],
   "source": []
  }
 ],
 "metadata": {
  "kernelspec": {
   "display_name": "Python 3 (ipykernel)",
   "language": "python",
   "name": "python3"
  },
  "language_info": {
   "codemirror_mode": {
    "name": "ipython",
    "version": 3
   },
   "file_extension": ".py",
   "mimetype": "text/x-python",
   "name": "python",
   "nbconvert_exporter": "python",
   "pygments_lexer": "ipython3",
   "version": "3.9.5"
  },
  "vscode": {
   "interpreter": {
    "hash": "8a1f9e2b5e6ed56433f9fa9231d5e19907977f9e5bb1e0fe20d2239c84d14468"
   }
  }
 },
 "nbformat": 4,
 "nbformat_minor": 5
}
