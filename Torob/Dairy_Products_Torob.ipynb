{
 "cells": [
  {
   "cell_type": "code",
   "execution_count": 1,
   "id": "074a7ddf",
   "metadata": {},
   "outputs": [],
   "source": [
    "import requests\n",
    "import json\n",
    "import numpy as np\n",
    "import pandas as pd"
   ]
  },
  {
   "cell_type": "code",
   "execution_count": 2,
   "id": "fa136a3b",
   "metadata": {},
   "outputs": [],
   "source": [
    "application_products = {'khame':[],'shir':[],'mast':[],'doogh':[],'panir':[],'kashk':[]}"
   ]
  },
  {
   "cell_type": "code",
   "execution_count": 3,
   "id": "09c9d9bf",
   "metadata": {},
   "outputs": [],
   "source": [
    "application_information = {'khame':{},'shir':{},'mast':{},'doogh':{},'panir':{},'kashk':{}}"
   ]
  },
  {
   "cell_type": "code",
   "execution_count": 4,
   "id": "9261741d",
   "metadata": {},
   "outputs": [],
   "source": [
    "# how many products each category has ? "
   ]
  },
  {
   "cell_type": "code",
   "execution_count": 5,
   "id": "11252a97",
   "metadata": {},
   "outputs": [],
   "source": [
    "# khame"
   ]
  },
  {
   "cell_type": "code",
   "execution_count": 6,
   "id": "eead289f",
   "metadata": {},
   "outputs": [],
   "source": [
    "khame_base_url = 'https://api.torob.com/v4/category/price-list-nested/?id=3569&source=next&page=0&size=100'"
   ]
  },
  {
   "cell_type": "code",
   "execution_count": 7,
   "id": "a9bf110c",
   "metadata": {},
   "outputs": [],
   "source": [
    "khame_base_response = requests.get(khame_base_url)"
   ]
  },
  {
   "cell_type": "code",
   "execution_count": 8,
   "id": "8e465a7e",
   "metadata": {},
   "outputs": [],
   "source": [
    "khame_base_dict = json.loads(khame_base_response.text)"
   ]
  },
  {
   "cell_type": "code",
   "execution_count": 9,
   "id": "11d59ad5",
   "metadata": {},
   "outputs": [],
   "source": [
    "application_information['khame']['number_of_products'] = khame_base_dict['results'][0]['count']\n",
    "application_information['khame']['number_of_pages'] = application_information['khame']['number_of_products'] // 100\n",
    "application_information['khame']['category_id'] = khame_base_dict['results'][0]['id']\n",
    "application_information['khame']['category_title'] = khame_base_dict['results'][0]['title']"
   ]
  },
  {
   "cell_type": "code",
   "execution_count": 10,
   "id": "539a963d",
   "metadata": {},
   "outputs": [],
   "source": [
    "application_products['khame'] = [[product['name1'],product['price']] for product in khame_base_dict['results'][0]['base_products']]"
   ]
  },
  {
   "cell_type": "code",
   "execution_count": 11,
   "id": "70193f9d",
   "metadata": {},
   "outputs": [],
   "source": [
    "# shir"
   ]
  },
  {
   "cell_type": "code",
   "execution_count": 12,
   "id": "0ca780a7",
   "metadata": {},
   "outputs": [],
   "source": [
    "shir_base_url = 'https://api.torob.com/v4/category/price-list-nested/?id=3561&source=next&page=0&size=100'"
   ]
  },
  {
   "cell_type": "code",
   "execution_count": 13,
   "id": "b340a7f6",
   "metadata": {},
   "outputs": [],
   "source": [
    "shir_base_response = requests.get(shir_base_url)"
   ]
  },
  {
   "cell_type": "code",
   "execution_count": 14,
   "id": "56c36e20",
   "metadata": {},
   "outputs": [],
   "source": [
    "shir_base_dict = json.loads(shir_base_response.text)"
   ]
  },
  {
   "cell_type": "code",
   "execution_count": 15,
   "id": "4f0aeeae",
   "metadata": {},
   "outputs": [],
   "source": [
    "application_information['shir']['number_of_products'] = shir_base_dict['results'][0]['count']\n",
    "application_information['shir']['number_of_pages'] = application_information['shir']['number_of_products'] // 100\n",
    "application_information['shir']['category_id'] = shir_base_dict['results'][0]['id']\n",
    "application_information['shir']['category_title'] = shir_base_dict['results'][0]['title']"
   ]
  },
  {
   "cell_type": "code",
   "execution_count": 16,
   "id": "09e98a53",
   "metadata": {},
   "outputs": [],
   "source": [
    "application_products['shir'] = [[product['name1'],product['price']] for product in shir_base_dict['results'][0]['base_products']]"
   ]
  },
  {
   "cell_type": "code",
   "execution_count": 17,
   "id": "b832bd4b",
   "metadata": {},
   "outputs": [],
   "source": [
    "# mast"
   ]
  },
  {
   "cell_type": "code",
   "execution_count": 18,
   "id": "6e167f66",
   "metadata": {},
   "outputs": [],
   "source": [
    "mast_base_url = 'https://api.torob.com/v4/category/price-list-nested/?id=3562&source=next&page=0&size=100'"
   ]
  },
  {
   "cell_type": "code",
   "execution_count": 19,
   "id": "5e97a516",
   "metadata": {},
   "outputs": [],
   "source": [
    "mast_base_response = requests.get(mast_base_url)"
   ]
  },
  {
   "cell_type": "code",
   "execution_count": 20,
   "id": "09e59173",
   "metadata": {},
   "outputs": [],
   "source": [
    "mast_base_dict = json.loads(mast_base_response.text)"
   ]
  },
  {
   "cell_type": "code",
   "execution_count": 21,
   "id": "cdd3997c",
   "metadata": {},
   "outputs": [],
   "source": [
    "application_information['mast']['number_of_products'] = mast_base_dict['results'][0]['count']\n",
    "application_information['mast']['number_of_pages'] = application_information['mast']['number_of_products'] // 100\n",
    "application_information['mast']['category_id'] = mast_base_dict['results'][0]['id']\n",
    "application_information['mast']['category_title'] = mast_base_dict['results'][0]['title']"
   ]
  },
  {
   "cell_type": "code",
   "execution_count": 22,
   "id": "67527574",
   "metadata": {},
   "outputs": [],
   "source": [
    "application_products['mast'] = [[product['name1'],product['price']] for product in mast_base_dict['results'][0]['base_products']]"
   ]
  },
  {
   "cell_type": "code",
   "execution_count": 23,
   "id": "28aadc9d",
   "metadata": {},
   "outputs": [],
   "source": [
    "# doogh"
   ]
  },
  {
   "cell_type": "code",
   "execution_count": 24,
   "id": "6ee08c1d",
   "metadata": {},
   "outputs": [],
   "source": [
    "doogh_base_url = 'https://api.torob.com/v4/category/price-list-nested/?id=3568&source=next&page=0&size=100'"
   ]
  },
  {
   "cell_type": "code",
   "execution_count": 25,
   "id": "b3b38df8",
   "metadata": {},
   "outputs": [],
   "source": [
    "doogh_base_response = requests.get(doogh_base_url)"
   ]
  },
  {
   "cell_type": "code",
   "execution_count": 26,
   "id": "85c07b87",
   "metadata": {},
   "outputs": [],
   "source": [
    "doogh_base_dict = json.loads(doogh_base_response.text)"
   ]
  },
  {
   "cell_type": "code",
   "execution_count": 27,
   "id": "436c0523",
   "metadata": {},
   "outputs": [],
   "source": [
    "application_information['doogh']['number_of_products'] = doogh_base_dict['results'][0]['count']\n",
    "application_information['doogh']['number_of_pages'] = application_information['doogh']['number_of_products'] // 100\n",
    "application_information['doogh']['category_id'] = doogh_base_dict['results'][0]['id']\n",
    "application_information['doogh']['category_title'] = doogh_base_dict['results'][0]['title']"
   ]
  },
  {
   "cell_type": "code",
   "execution_count": 28,
   "id": "bd678938",
   "metadata": {},
   "outputs": [],
   "source": [
    "application_products['doogh'] = [[product['name1'],product['price']] for product in doogh_base_dict['results'][0]['base_products']]"
   ]
  },
  {
   "cell_type": "code",
   "execution_count": 29,
   "id": "208fb160",
   "metadata": {},
   "outputs": [],
   "source": [
    "# panir"
   ]
  },
  {
   "cell_type": "code",
   "execution_count": 30,
   "id": "1c41df5c",
   "metadata": {},
   "outputs": [],
   "source": [
    "panir_base_url = 'https://api.torob.com/v4/category/price-list-nested/?id=3563&source=next&page=0&size=100'"
   ]
  },
  {
   "cell_type": "code",
   "execution_count": 31,
   "id": "b65b7ea2",
   "metadata": {},
   "outputs": [],
   "source": [
    "panir_base_response = requests.get(panir_base_url)"
   ]
  },
  {
   "cell_type": "code",
   "execution_count": 32,
   "id": "821ce321",
   "metadata": {},
   "outputs": [],
   "source": [
    "panir_base_dict = json.loads(panir_base_response.text)"
   ]
  },
  {
   "cell_type": "code",
   "execution_count": 33,
   "id": "9e8d2719",
   "metadata": {},
   "outputs": [],
   "source": [
    "application_information['panir']['number_of_products'] = panir_base_dict['results'][0]['count']\n",
    "application_information['panir']['number_of_pages'] = application_information['panir']['number_of_products'] // 100\n",
    "application_information['panir']['category_id'] = panir_base_dict['results'][0]['id']\n",
    "application_information['panir']['category_title'] = panir_base_dict['results'][0]['title']"
   ]
  },
  {
   "cell_type": "code",
   "execution_count": 34,
   "id": "78c1df30",
   "metadata": {},
   "outputs": [],
   "source": [
    "application_products['panir'] = [[product['name1'],product['price']] for product in panir_base_dict['results'][0]['base_products']]"
   ]
  },
  {
   "cell_type": "code",
   "execution_count": 35,
   "id": "f11a309c",
   "metadata": {},
   "outputs": [],
   "source": [
    "# kashk"
   ]
  },
  {
   "cell_type": "code",
   "execution_count": 36,
   "id": "40dff023",
   "metadata": {},
   "outputs": [],
   "source": [
    "kashk_base_url = 'https://api.torob.com/v4/category/price-list-nested/?id=3566&source=next&page=0&size=100'"
   ]
  },
  {
   "cell_type": "code",
   "execution_count": 37,
   "id": "b9e6b3cc",
   "metadata": {},
   "outputs": [],
   "source": [
    "kashk_base_response = requests.get(kashk_base_url)"
   ]
  },
  {
   "cell_type": "code",
   "execution_count": 38,
   "id": "9dbc526d",
   "metadata": {},
   "outputs": [],
   "source": [
    "kashk_base_dict = json.loads(kashk_base_response.text)"
   ]
  },
  {
   "cell_type": "code",
   "execution_count": 39,
   "id": "3bcf857a",
   "metadata": {},
   "outputs": [],
   "source": [
    "application_information['kashk']['number_of_products'] = kashk_base_dict['results'][0]['count']\n",
    "application_information['kashk']['number_of_pages'] = application_information['kashk']['number_of_products'] // 100\n",
    "application_information['kashk']['category_id'] = kashk_base_dict['results'][0]['id']\n",
    "application_information['kashk']['category_title'] = kashk_base_dict['results'][0]['title']"
   ]
  },
  {
   "cell_type": "code",
   "execution_count": 40,
   "id": "95e94dfa",
   "metadata": {},
   "outputs": [],
   "source": [
    "application_products['kashk'] = [[product['name1'],product['price']] for product in kashk_base_dict['results'][0]['base_products']]"
   ]
  },
  {
   "cell_type": "code",
   "execution_count": 41,
   "id": "e53cedb4",
   "metadata": {},
   "outputs": [],
   "source": [
    "# now we know how many products each category has !"
   ]
  },
  {
   "cell_type": "code",
   "execution_count": 42,
   "id": "9dd7e4b7",
   "metadata": {},
   "outputs": [],
   "source": [
    "# products gathering"
   ]
  },
  {
   "cell_type": "code",
   "execution_count": 43,
   "id": "9ceb8216",
   "metadata": {},
   "outputs": [],
   "source": [
    "for category in list(application_products.keys()):\n",
    "    category_id = application_information[category]['category_id']\n",
    "    for page_number in range(1,(application_information[category]['number_of_pages'])+1):\n",
    "        url = 'https://api.torob.com/v4/category/price-list-nested/?id={}&source=next&page={}&size=100'.format(category_id,page_number)\n",
    "        products_response = requests.get(url)\n",
    "        products_dict = json.loads(products_response.text)\n",
    "        for product in (products_dict['results'][0]['base_products']):\n",
    "            application_products[category].append([product['name1'],product['price']])"
   ]
  },
  {
   "cell_type": "code",
   "execution_count": 44,
   "id": "6bcd64d1",
   "metadata": {},
   "outputs": [],
   "source": [
    "# write in excel with different sheets"
   ]
  },
  {
   "cell_type": "code",
   "execution_count": 45,
   "id": "d8fcab25",
   "metadata": {},
   "outputs": [],
   "source": [
    "with pd.ExcelWriter(\"Products_Price_Torob.xlsx\") as writer:\n",
    "    for category in list(application_products.keys()):\n",
    "        df = pd.DataFrame(application_products[category],columns =['نام محصول', 'قیمت'])\n",
    "        df.to_excel(writer, sheet_name=category, index=False)"
   ]
  },
  {
   "cell_type": "code",
   "execution_count": 92,
   "id": "3d04ccb7",
   "metadata": {},
   "outputs": [],
   "source": []
  },
  {
   "cell_type": "code",
   "execution_count": null,
   "id": "2fb4d4a9",
   "metadata": {},
   "outputs": [],
   "source": []
  },
  {
   "cell_type": "code",
   "execution_count": null,
   "id": "dd835948",
   "metadata": {},
   "outputs": [],
   "source": []
  }
 ],
 "metadata": {
  "kernelspec": {
   "display_name": "Python 3 (ipykernel)",
   "language": "python",
   "name": "python3"
  },
  "language_info": {
   "codemirror_mode": {
    "name": "ipython",
    "version": 3
   },
   "file_extension": ".py",
   "mimetype": "text/x-python",
   "name": "python",
   "nbconvert_exporter": "python",
   "pygments_lexer": "ipython3",
   "version": "3.9.5"
  }
 },
 "nbformat": 4,
 "nbformat_minor": 5
}
